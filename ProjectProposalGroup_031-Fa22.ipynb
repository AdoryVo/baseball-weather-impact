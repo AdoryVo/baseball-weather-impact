{
  "cells": [
    {
      "cell_type": "markdown",
      "metadata": {
        "id": "lJKAqmT4jyW4"
      },
      "source": [
        "# COGS 108 - Final Project Proposal"
      ]
    },
    {
      "cell_type": "markdown",
      "metadata": {
        "id": "4reodM9jjyW7"
      },
      "source": [
        "# Names\n",
        "\n",
        "- Adory Vo\n",
        "- Andrew Park\n",
        "- Royce Labuguen\n",
        "- Schuyler Voss"
      ]
    },
    {
      "cell_type": "markdown",
      "metadata": {
        "id": "HVETGd87jyW8"
      },
      "source": [
        "# Research Question"
      ]
    },
    {
      "cell_type": "markdown",
      "metadata": {
        "id": "TuNIku3YjyW8"
      },
      "source": [
        "Do weather conditions have a notable effect on the performance of Major League Baseball players? How are stats such as hits, runs, home runs, pitch velocity, and errors affected when players are put in weather conditions that are more extreme than they are used to?\n",
        "\n"
      ]
    },
    {
      "cell_type": "markdown",
      "metadata": {
        "id": "XZZIMXqHjyW9"
      },
      "source": [
        "## Background and Prior Work"
      ]
    },
    {
      "cell_type": "markdown",
      "metadata": {
        "id": "W_-MEkRsjyW9"
      },
      "source": [
        "Baseball is a very unpredictable game with many different factors that can affect the outcome of each pitch. This unpredictability is what makes the game so difficult and interesting. For example, a team that wins 60% of their games can be blown out by a team that has won 20% of their games on any given day. However, among these many factors, one that we can measure is the weather conditions. In the 30 baseball stadiums across North America, the weather can vary drastically, which is especially impactful for a team that doesn't normally play in that area. This factor that players are not used to can have an effect on how their muscles feel, how the ball feels in their hand, and how the bat feels off the ball, potentially changing how they perform. Some players, such as former Dodgers star pitcher Orel Hershiser, have admitted that they preferred playing in certain conditions because it gave them a certain edge. Hershiser stated that he loved pitching in the cold because of how uncomfortable it made the hitters feel when they barely missed the barrel (the thickest part of the bat) on his pitches[^Branom]. Another long time baseball executive, Wayne Krivsky, said \"I don't think anyone has fun pitching when it's cold... Really, nobody likes playing in the cold weather. If you don't hit the ball on the sweet part of the bat, it vibrates in your hands. It's a big issue.[^Roach]\" Every player is different and baseball players in general are known for being a little bit odd, therefore their preferences may be different across the board. Since such little changes can affect the way a player feels on a given day, many have wondered if they could predict the outcome of a game based solely on the weather. \n",
        "\n",
        "Multiple previous studies have been done around the science behind the climate's effect on outcomes in a baseball game. One study found that metrics such as humidity, altitude, temperature, and wind have a noticable impact on a baseball's trajectory. Intuitively, wind speed can affect the trajectory of a ball by simply pushing it more in one direction[^Boddy]. Beyond wind speed, we may also examine air density - if it is more humid, the air contains more water molecules, which in turn lowers the air's density, making it easier for a ball to travel further. At higher altitudes, there are less air molecules pushing down on themselves from above, also lowering air density. Warmer temperatures cause gases to expand more, and conversely colder temperatures cause gases to shrink, having an obvious effect on air density as well. Furthermore, it is observed that \"runs scored, batting average, slugging percentage, on-base percentage, and home runs signficantly increase\" in warm weather, showing that thermic variability impacts game outcome and drastically affects offensive scoring production[^Koch]. Thus, our research project aims to investigate the scientific intution behind these many factors by measuring their impacts,  individually and in combination with each other, in actual games.\n",
        "\n",
        "[^Branom]: Branom, M. (4 Oct 2020) Fair skies, foul balls: How weather influences baseball. *The Washington Post*. https://www.washingtonpost.com/weather/2020/10/04/weather-influence-baseball\n",
        "\n",
        "[^Roach]: Roach, J. (24 Oct 2019) Who has the advantage in colder weather — the pitchers or the hitters?. *WUSA9*. https://www.wusa9.com/article/weather/accuweather/hot-cold-weather-impacts-pitchers-batters-world-series/607-3a8e7b59-93d7-475e-8c7a-04b729c5d7ac\n",
        "\n",
        "[^Boddy]: Boddy, J. (12 Mar 2018) The best weather for hitting a home run, according to scientists. *Popular Science*. https://www.popsci.com/best-weather-for-hitting-home-run-baseball/\n",
        "\n",
        "[^Koch]: Koch, B. & Panorska, A. (01 Oct 2013) The Impact of Temperature on Major League Baseball. *AMS*. https://journals.ametsoc.org/view/journals/wcas/5/4/wcas-d-13-00002_1.xml\n"
      ]
    },
    {
      "cell_type": "markdown",
      "metadata": {
        "id": "1ZLNkKK0jyW-"
      },
      "source": [
        "# Hypothesis\n"
      ]
    },
    {
      "cell_type": "markdown",
      "metadata": {
        "id": "_J7KAedPjyW-"
      },
      "source": [
        "We expect more extreme weather conditions to definitely have a noticeable effect on MLB players as our previous experience and background research suggests this. However, for teams that play in cities that are more used to these inclement weather conditions such as light rain and heavy winds, we can expect a lower impact. For teams that play in more stable weather conditions - like southern California baseball teams - we expect the overall performance decrease to be more apparent when playing away in harsher cities. For example, in considering pitchers that are used to more stable conditions, playing in inclement weather should produce an overall decrease of pitch velocity and we should also expect to see a noticeable increase in the amount of errors produced by fielders."
      ]
    },
    {
      "cell_type": "markdown",
      "metadata": {
        "id": "0lMZIeQdjyW_"
      },
      "source": [
        "# Data"
      ]
    },
    {
      "cell_type": "markdown",
      "metadata": {
        "id": "DBmO-txkjyXA"
      },
      "source": [
        "Our ideal dataset would include weather conditions for MLB games and detailed stats for the events in those games (hits, runs, home runs, pitch velocity, and errors, etc). Games from several teams across one season should suffice as we may observe a decent amount of performances in varying conditions across North America. This data would likely be collected by official technology used in MLB games. After doing some research, we have found public use data matching this for the 2016 MLB season on Kaggle. The datasets are not exactly in a compact & easy to use format, but they should be sufficient with some cleaning."
      ]
    },
    {
      "cell_type": "markdown",
      "metadata": {
        "id": "ZiyIrWDojyXA"
      },
      "source": [
        "# Ethics & Privacy"
      ]
    },
    {
      "cell_type": "markdown",
      "metadata": {
        "id": "WiYasKDrjyXA"
      },
      "source": [
        "For the data we will be working with, we don't expect any ethics/privacy/terms of use issues. As the data is public information, the level of risk for our data is low, with all subjects equally protected as there is no intrusive data collection being performed. Our data is also dependent on objective baseball statistics and measurements, and thus our research will maintain within the realm of baseball and should not encounter with significant ethical concerns such as human rights. This data is accessible without proxy and directly related to our research, and potential biases that we must be aware of result from improper data collection and cleaning. Being extensive in our filtering and tidying will prevent these biases from affecting our conclusions. "
      ]
    },
    {
      "cell_type": "markdown",
      "metadata": {
        "id": "9QC-QaHZjyXB"
      },
      "source": [
        "# Team Expectations "
      ]
    },
    {
      "cell_type": "markdown",
      "metadata": {
        "id": "gkxrAjcajyXB"
      },
      "source": [
        "* Communicate clearly, respectfully, and in an organized fashion through Slack and its appropriate channels\n",
        "* Keep fellow team members updated with your progress & plans towards tasks in a timely manner\n",
        "* Even without an active task, stay up to date on others' changes in order to\n",
        "  provide feedback & contribute further\n",
        "* Complete your assigned individual work according to agreed plans & deadlines\n",
        "* Settle conflicts with empathy, patience, and an open mind"
      ]
    },
    {
      "cell_type": "markdown",
      "metadata": {
        "id": "hKS959itjyXC"
      },
      "source": [
        "# Project Timeline Proposal"
      ]
    },
    {
      "cell_type": "markdown",
      "metadata": {
        "id": "3rYZAQqBjyXC"
      },
      "source": [
        "| Meeting Date | Meeting Time | Completed Before Meeting  | Discuss at Meeting |\n",
        "|---|---|---|---|\n",
        "| Sun 10/23 [Wk. 5] |  1 PM | Brainstorm topics; Determine best form of communication  | Discuss and decide on final project topic; Begin background research; Search for datasets | \n",
        "| Mon 10/24 [Wk. 5] | 2 PM |  Do background research on topic | Discuss ethics, hypothesis, & team expectations; Draft & collaborate on project proposal | \n",
        "| Mon 10/31 [Wk. 6] | 2 PM  | Edit, finalize, and submit proposal  | Discuss wrangling and possible analytical approaches; Assign group members to lead each specific part   |\n",
        "| Mon 11/07 [Wk. 7] | 2 PM  | Import & Wrangle Data (Adory) | Review wrangling; Begin EDA (Andrew)  |\n",
        "| Mon 11/14 [Wk. 8] | 2 PM  | Think about analysis plan | Review/Edit EDA;  Discuss analysis plan   |\n",
        "| Mon 11/21 [Wk. 9] | 2 PM  | Finalize EDA; Begin analysis (Royce; Schuyler) | Discuss/edit analysis; Complete project check-in |\n",
        "| Mon 11/28 [Wk. 10] | 2 PM  | Complete analysis; Draft results/conclusion/discussion (All)| Discuss/edit full project |\n",
        "| Mon 12/09  | Before 11:59 PM  | NA | Turn in Final Project & Group Project Surveys |"
      ]
    }
  ],
  "metadata": {
    "kernelspec": {
      "display_name": "Python 3",
      "language": "python",
      "name": "python3"
    },
    "language_info": {
      "codemirror_mode": {
        "name": "ipython",
        "version": 3
      },
      "file_extension": ".py",
      "mimetype": "text/x-python",
      "name": "python",
      "nbconvert_exporter": "python",
      "pygments_lexer": "ipython3",
      "version": "3.8.8"
    },
    "colab": {
      "provenance": [],
      "collapsed_sections": [],
      "toc_visible": true
    }
  },
  "nbformat": 4,
  "nbformat_minor": 0
}